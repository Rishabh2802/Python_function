{
  "nbformat": 4,
  "nbformat_minor": 0,
  "metadata": {
    "colab": {
      "provenance": []
    },
    "kernelspec": {
      "name": "python3",
      "display_name": "Python 3"
    },
    "language_info": {
      "name": "python"
    }
  },
  "cells": [
    {
      "cell_type": "markdown",
      "source": [
        "1. What is the difference between a function and a method in Python?"
      ],
      "metadata": {
        "id": "8Xq7Xt7qwf4X"
      }
    },
    {
      "cell_type": "markdown",
      "source": [
        "A function is a block of code that performs a specific task and is defined using def keyword.\n",
        "A method is similar to a function, but it is associated with an object and is called on an object (e.g., a list method like list.append())."
      ],
      "metadata": {
        "id": "kzgsxEIMxgsl"
      }
    },
    {
      "cell_type": "code",
      "source": [
        "#Example of function\n",
        "def sum(a,b):\n",
        "  \"\"\"This function returns the sum of two numbers\"\"\"\n",
        "  return a+b\n",
        "\n",
        "#Example of Method\n",
        "class MyClass:\n",
        "  def my_method(self):\n",
        "    return \"This is a method\""
      ],
      "metadata": {
        "id": "2Ns7-OhTy6Ev"
      },
      "execution_count": 13,
      "outputs": []
    },
    {
      "cell_type": "markdown",
      "source": [
        "2. Explain the concept of function arguments and parameters in Python."
      ],
      "metadata": {
        "id": "hUw8r-LJw50K"
      }
    },
    {
      "cell_type": "markdown",
      "source": [
        "Parameters are the variables listed in a function's definition, while arguments are the values passed to the function when it is called."
      ],
      "metadata": {
        "id": "isTRyMHd0tSX"
      }
    },
    {
      "cell_type": "code",
      "source": [
        "def sum(a,b): # a and b are the parameters\n",
        "  \"\"\"This function returns the sum of two numbers\"\"\"\n",
        "  return a+b\n",
        "\n",
        "sum(3,5) # 3 and 5 are the arguments"
      ],
      "metadata": {
        "colab": {
          "base_uri": "https://localhost:8080/"
        },
        "id": "pr9pL7uP03l4",
        "outputId": "403d7793-066c-4ca2-e304-63d8d1aa662e"
      },
      "execution_count": 14,
      "outputs": [
        {
          "output_type": "execute_result",
          "data": {
            "text/plain": [
              "8"
            ]
          },
          "metadata": {},
          "execution_count": 14
        }
      ]
    },
    {
      "cell_type": "markdown",
      "source": [
        "3. What are the different ways to define and call a function in Python?\n",
        "\n"
      ],
      "metadata": {
        "id": "CI82z3fvxA7t"
      }
    },
    {
      "cell_type": "markdown",
      "source": [
        "Functions are defined using the def keyword and called by using the function name followed by parantheses containing arguments."
      ],
      "metadata": {
        "id": "EXK9Jb4N1Yqp"
      }
    },
    {
      "cell_type": "code",
      "source": [
        "def func(name):\n",
        "  print(\"My name is:\", name)\n",
        "func(\"Rishabh\") #calling the function"
      ],
      "metadata": {
        "colab": {
          "base_uri": "https://localhost:8080/"
        },
        "id": "c8vEs5Av1HOs",
        "outputId": "33395b7a-bf18-4c8a-ff88-538cc9fac0ea"
      },
      "execution_count": 15,
      "outputs": [
        {
          "output_type": "stream",
          "name": "stdout",
          "text": [
            "My name is: Rishabh\n"
          ]
        }
      ]
    },
    {
      "cell_type": "markdown",
      "source": [
        "4. What is the purpose of the `return` statement in a Python function?\n",
        "\n"
      ],
      "metadata": {
        "id": "Ea-G4wxkxBGJ"
      }
    },
    {
      "cell_type": "markdown",
      "source": [
        "The return statement is used to exit a function and send a value back to the caller."
      ],
      "metadata": {
        "id": "XYcaB_xM14Y-"
      }
    },
    {
      "cell_type": "code",
      "source": [
        "import numpy as np\n",
        "def sigmoid(x):\n",
        "  z = 1/(1+np.exp(-x))\n",
        "  return z\n",
        "\n",
        "x = np.linspace(-10, 10, 100)\n",
        "z = sigmoid(x)"
      ],
      "metadata": {
        "id": "nUOfLrIG2P1j"
      },
      "execution_count": 16,
      "outputs": []
    },
    {
      "cell_type": "markdown",
      "source": [
        "5. What are iterators in Python and how do they differ from iterables?\n",
        "\n"
      ],
      "metadata": {
        "id": "hCuJmZKXxBTc"
      }
    },
    {
      "cell_type": "markdown",
      "source": [
        "Iterable: It is an object, that one can iterate over. It generates an Iterator when passed to iter() method.\n",
        "\n",
        "Iterator: An object representing a stream of data that can be iterated over using next()."
      ],
      "metadata": {
        "id": "8FqDYeYE3K4f"
      }
    },
    {
      "cell_type": "code",
      "source": [
        "my_list = [1,2,3]\n",
        "my_iter = iter(my_list)"
      ],
      "metadata": {
        "id": "9huDA7bL3y8Q"
      },
      "execution_count": 17,
      "outputs": []
    },
    {
      "cell_type": "markdown",
      "source": [
        "6. Explain the concept of generators in Python and how they are defined.\n",
        "\n"
      ],
      "metadata": {
        "id": "5z7Sthd6xBz8"
      }
    },
    {
      "cell_type": "markdown",
      "source": [
        "Generators are functions that yield values one at a time and maintain their state between calls. They are defined using the yield keyword."
      ],
      "metadata": {
        "id": "_gI0Awvk36-C"
      }
    },
    {
      "cell_type": "code",
      "source": [
        "def my_generator():\n",
        "  for i in range(10):\n",
        "    yield i"
      ],
      "metadata": {
        "id": "EKnA9RAO5V7_"
      },
      "execution_count": 18,
      "outputs": []
    },
    {
      "cell_type": "markdown",
      "source": [
        "7. What are the advantages of using generators over regular functions?\n",
        "\n"
      ],
      "metadata": {
        "id": "FMy2kQ3FxB9t"
      }
    },
    {
      "cell_type": "markdown",
      "source": [
        "Generators are memory efficient since they generate values lazily and when needed. They are ideal for working with large datasets or infinte sequences."
      ],
      "metadata": {
        "id": "P-LcXbYP5a4-"
      }
    },
    {
      "cell_type": "markdown",
      "source": [
        "8. What is a lambda function in Python and when is it typically used?\n",
        "\n"
      ],
      "metadata": {
        "id": "8u96fcoHxCHp"
      }
    },
    {
      "cell_type": "markdown",
      "source": [
        "A lambda function is a small anonymous function defined with the lambda keyword, typically used for short-term operations."
      ],
      "metadata": {
        "id": "wfS16g5s7aau"
      }
    },
    {
      "cell_type": "code",
      "source": [
        "add = lambda x,y: x+y\n",
        "add(3,5)"
      ],
      "metadata": {
        "colab": {
          "base_uri": "https://localhost:8080/"
        },
        "id": "PZjG3YJh7mW5",
        "outputId": "66242e8f-5391-49ef-a444-4218e44f5d80"
      },
      "execution_count": 19,
      "outputs": [
        {
          "output_type": "execute_result",
          "data": {
            "text/plain": [
              "8"
            ]
          },
          "metadata": {},
          "execution_count": 19
        }
      ]
    },
    {
      "cell_type": "markdown",
      "source": [
        "9. Explain the purpose and usage of the `map()` function in Python.\n",
        "\n"
      ],
      "metadata": {
        "id": "QiS5A_JrxCSA"
      }
    },
    {
      "cell_type": "markdown",
      "source": [
        "map() applies a function to every item in an iterable and returns a map object (whichh is an iterator)."
      ],
      "metadata": {
        "id": "ZzVnEnPB7sFc"
      }
    },
    {
      "cell_type": "code",
      "source": [
        "numbers = [1,2,3,4,5]\n",
        "squared = map(lambda x: x**2, numbers)\n",
        "print(list(squared))"
      ],
      "metadata": {
        "colab": {
          "base_uri": "https://localhost:8080/"
        },
        "id": "wetyWXAF7070",
        "outputId": "6fe244a0-065d-40af-895e-da457187f996"
      },
      "execution_count": 20,
      "outputs": [
        {
          "output_type": "stream",
          "name": "stdout",
          "text": [
            "[1, 4, 9, 16, 25]\n"
          ]
        }
      ]
    },
    {
      "cell_type": "markdown",
      "source": [
        "10. What is the difference between `map()`, `reduce()`, and `filter()` functions in Python?\n",
        "\n",
        "\n",
        "\n",
        ""
      ],
      "metadata": {
        "id": "l-OmCapjxCbJ"
      }
    },
    {
      "cell_type": "markdown",
      "source": [
        "map(): Applies a function to all items in an iterable\n",
        "filter(): Filters items based on a condition\n",
        "reduce(): Reduces the iterable to a single value using a function"
      ],
      "metadata": {
        "id": "0nan7cjY8KGy"
      }
    },
    {
      "cell_type": "markdown",
      "source": [
        "11. Using pen & Paper write the internal mechanism for sum operation using  reduce function on this given\n",
        "list:[47,11,42,13];"
      ],
      "metadata": {
        "id": "aKdaSUjOxCke"
      }
    },
    {
      "cell_type": "markdown",
      "source": [
        "The reduce() function in Python applies a function of two arguments cumulatively to the items of a sequence, from left to right, so as to reduce the sequence to a single value.\n",
        "For this example, we will use reduce() to sum the elements of the list [47, 11, 42, 13]"
      ],
      "metadata": {
        "id": "QHf2xXEAKqxD"
      }
    },
    {
      "cell_type": "code",
      "source": [
        "from functools import reduce\n",
        "\n",
        "numbers = [47, 11, 42, 13]\n",
        "result = reduce(lambda x, y: x + y, numbers)\n",
        "print(result)\n"
      ],
      "metadata": {
        "colab": {
          "base_uri": "https://localhost:8080/"
        },
        "id": "MoIZtzv9LNmV",
        "outputId": "a24687b6-418b-4729-98d4-449e5eb01907"
      },
      "execution_count": 21,
      "outputs": [
        {
          "output_type": "stream",
          "name": "stdout",
          "text": [
            "113\n"
          ]
        }
      ]
    },
    {
      "cell_type": "markdown",
      "source": [
        "## Practical Questions"
      ],
      "metadata": {
        "id": "h1g_gXAi8cmA"
      }
    },
    {
      "cell_type": "markdown",
      "source": [
        "1. Write a Python function that takes a list of numbers as input and returns the sum of all even numbers in\n",
        "the list.\n",
        "\n"
      ],
      "metadata": {
        "id": "_4abcEVw8hO-"
      }
    },
    {
      "cell_type": "code",
      "source": [
        "def sum_even(num):\n",
        "  sum = 0\n",
        "  for i in num:\n",
        "    if 1%2==0:\n",
        "      sum+=i\n",
        "  return sum\n",
        "\n",
        "num = [1,2,3,4]\n",
        "sum_even(num)\n"
      ],
      "metadata": {
        "colab": {
          "base_uri": "https://localhost:8080/"
        },
        "id": "qrizT03F9OFQ",
        "outputId": "d0bc4884-dd26-44d2-bec6-f7c2e20983f1"
      },
      "execution_count": 22,
      "outputs": [
        {
          "output_type": "execute_result",
          "data": {
            "text/plain": [
              "0"
            ]
          },
          "metadata": {},
          "execution_count": 22
        }
      ]
    },
    {
      "cell_type": "markdown",
      "source": [
        "2. Create a Python function that accepts a string and returns the reverse of that string.\n",
        "\n",
        "\n"
      ],
      "metadata": {
        "id": "FWtKrsRd8toH"
      }
    },
    {
      "cell_type": "code",
      "source": [
        "def reverse_string(str):\n",
        "  return str[::-1]\n",
        "print(reverse_string(\"Rishabh\"))"
      ],
      "metadata": {
        "colab": {
          "base_uri": "https://localhost:8080/"
        },
        "id": "bNn9tMhe-I7n",
        "outputId": "35c8b704-931a-4df1-d43f-754c3ccda578"
      },
      "execution_count": 23,
      "outputs": [
        {
          "output_type": "stream",
          "name": "stdout",
          "text": [
            "hbahsiR\n"
          ]
        }
      ]
    },
    {
      "cell_type": "markdown",
      "source": [
        "3. Implement a Python function that takes a list of integers and returns a new list containing the squares of\n",
        "each number.\n",
        "\n"
      ],
      "metadata": {
        "id": "AFCxSQZb8tzT"
      }
    },
    {
      "cell_type": "code",
      "source": [
        "def square_list(num):\n",
        "  new_list = []\n",
        "  for i in num:\n",
        "    new_list.append(i**2)\n",
        "    return new_list\n",
        "num = [1,2,3,4]\n",
        "square_list(num)"
      ],
      "metadata": {
        "colab": {
          "base_uri": "https://localhost:8080/"
        },
        "id": "itnu4eW--aTu",
        "outputId": "21fd29dd-cf90-4759-91ef-3e109c8f6c55"
      },
      "execution_count": 24,
      "outputs": [
        {
          "output_type": "execute_result",
          "data": {
            "text/plain": [
              "[1]"
            ]
          },
          "metadata": {},
          "execution_count": 24
        }
      ]
    },
    {
      "cell_type": "markdown",
      "source": [
        "4. Write a Python function that checks if a given number is prime or not from 1 to 200.\n",
        "\n",
        "\n"
      ],
      "metadata": {
        "id": "rBqLvJvT8t8D"
      }
    },
    {
      "cell_type": "code",
      "source": [
        "def is_prime(n):\n",
        "    if n < 2:\n",
        "        return False\n",
        "    for i in range(2, int(n ** 0.5) + 1):\n",
        "        if n % i == 0:\n",
        "            return False\n",
        "    return True\n",
        "\n",
        "primes = [n for n in range(1, 201) if is_prime(n)]\n",
        "print(primes)"
      ],
      "metadata": {
        "colab": {
          "base_uri": "https://localhost:8080/"
        },
        "id": "9k1p_8L6HVeW",
        "outputId": "8f859a45-e032-42bc-c9d2-3f117edba090"
      },
      "execution_count": 33,
      "outputs": [
        {
          "output_type": "stream",
          "name": "stdout",
          "text": [
            "[2, 3, 5, 7, 11, 13, 17, 19, 23, 29, 31, 37, 41, 43, 47, 53, 59, 61, 67, 71, 73, 79, 83, 89, 97, 101, 103, 107, 109, 113, 127, 131, 137, 139, 149, 151, 157, 163, 167, 173, 179, 181, 191, 193, 197, 199]\n"
          ]
        }
      ]
    },
    {
      "cell_type": "markdown",
      "source": [
        "5. Create an iterator class in Python that generates the Fibonacci sequence up to a specified number of\n",
        "terms.\n",
        "\n"
      ],
      "metadata": {
        "id": "kWnuDAZP8uEK"
      }
    },
    {
      "cell_type": "code",
      "source": [
        "class Fibonacci:\n",
        "    def __init__(self, terms):\n",
        "        self.terms = terms\n",
        "        self.a, self.b = 0, 1\n",
        "        self.count = 0\n",
        "\n",
        "    def __iter__(self):\n",
        "        return self\n",
        "\n",
        "    def __next__(self):\n",
        "        if self.count >= self.terms:\n",
        "            raise StopIteration\n",
        "        self.count += 1\n",
        "        self.a, self.b = self.b, self.a + self.b\n",
        "        return self.a\n",
        "\n",
        "fib_iter = Fibonacci(10)\n",
        "print(list(fib_iter))"
      ],
      "metadata": {
        "colab": {
          "base_uri": "https://localhost:8080/"
        },
        "id": "qNfohl4PHa-r",
        "outputId": "3e3ffc37-eada-442d-db2f-125d431bdb33"
      },
      "execution_count": 37,
      "outputs": [
        {
          "output_type": "stream",
          "name": "stdout",
          "text": [
            "[1, 1, 2, 3, 5, 8, 13, 21, 34, 55]\n"
          ]
        }
      ]
    },
    {
      "cell_type": "markdown",
      "source": [
        "6. Write a generator function in Python that yields the powers of 2 up to a given exponent.\n",
        "\n"
      ],
      "metadata": {
        "id": "jpoeLi1p8uV9"
      }
    },
    {
      "cell_type": "code",
      "source": [
        "def powers_of_two(exponent):\n",
        "    for i in range(exponent + 1):\n",
        "        yield 2 ** i\n",
        "print(list(powers_of_two(5)))"
      ],
      "metadata": {
        "colab": {
          "base_uri": "https://localhost:8080/"
        },
        "id": "wHTgn84BHl1T",
        "outputId": "3cebdc4b-4696-41e8-acec-4df6abc020c9"
      },
      "execution_count": 39,
      "outputs": [
        {
          "output_type": "stream",
          "name": "stdout",
          "text": [
            "[1, 2, 4, 8, 16, 32]\n"
          ]
        }
      ]
    },
    {
      "cell_type": "markdown",
      "source": [
        "7. Implement a generator function that reads a file line by line and yields each line as a string.\n",
        "\n"
      ],
      "metadata": {
        "id": "4YDdBsmm8uet"
      }
    },
    {
      "cell_type": "code",
      "source": [
        "def file_reader(file_path):\n",
        "    with open(file_path, 'r') as file:\n",
        "        for line in file:\n",
        "            yield line.strip()\n"
      ],
      "metadata": {
        "id": "Ssbro7YrHq7B"
      },
      "execution_count": 28,
      "outputs": []
    },
    {
      "cell_type": "markdown",
      "source": [
        "8. Use a lambda function in Python to sort a list of tuples based on the second element of each tuple.\n",
        "\n"
      ],
      "metadata": {
        "id": "eMOfOnHl8uno"
      }
    },
    {
      "cell_type": "code",
      "source": [
        "tuples = [(1, 3), (2, 2), (3, 1)]\n",
        "sorted_tuples = sorted(tuples, key=lambda x: x[1])\n",
        "print(sorted_tuples)"
      ],
      "metadata": {
        "colab": {
          "base_uri": "https://localhost:8080/"
        },
        "id": "LF1b5b7NHutX",
        "outputId": "a5aaafac-5443-4709-a09e-608782fa1819"
      },
      "execution_count": 42,
      "outputs": [
        {
          "output_type": "stream",
          "name": "stdout",
          "text": [
            "[(3, 1), (2, 2), (1, 3)]\n"
          ]
        }
      ]
    },
    {
      "cell_type": "markdown",
      "source": [
        "9. Write a Python program that uses `map()` to convert a list of temperatures from Celsius to Fahrenheit.\n",
        "\n"
      ],
      "metadata": {
        "id": "6PnONk999It3"
      }
    },
    {
      "cell_type": "code",
      "execution_count": 41,
      "metadata": {
        "colab": {
          "base_uri": "https://localhost:8080/"
        },
        "id": "Z79HziSRuRHf",
        "outputId": "0228aa56-b487-425f-c86b-36503ef23cb4"
      },
      "outputs": [
        {
          "output_type": "stream",
          "name": "stdout",
          "text": [
            "[32.0, 68.0, 86.0]\n"
          ]
        }
      ],
      "source": [
        "celsius = [0, 20, 30]\n",
        "fahrenheit = list(map(lambda c: (c * 9/5) + 32, celsius))\n",
        "print(fahrenheit)"
      ]
    },
    {
      "cell_type": "markdown",
      "source": [
        "10. Create a Python program that uses `filter()` to remove all the vowels from a given string"
      ],
      "metadata": {
        "id": "kOMd9klg9I_8"
      }
    },
    {
      "cell_type": "code",
      "source": [
        "def remove_vowels(s):\n",
        "    return ''.join(filter(lambda ch: ch.lower() not in 'aeiou', s))\n",
        "print(remove_vowels(\"Rishabh\"))"
      ],
      "metadata": {
        "colab": {
          "base_uri": "https://localhost:8080/"
        },
        "id": "q_gyi0nPwdBk",
        "outputId": "44d6e643-572a-49cc-9955-769785d3cf94"
      },
      "execution_count": 40,
      "outputs": [
        {
          "output_type": "stream",
          "name": "stdout",
          "text": [
            "Rshbh\n"
          ]
        }
      ]
    },
    {
      "cell_type": "markdown",
      "source": [
        "11. Write a Python program, which returns a list with 2-tuples. Each tuple consists of the order number and the\n",
        "product of the price per item and the quantity. The product should be increased by 10,- € if the value of the\n",
        "order is smaller than 100,00 €.\n",
        "\n",
        "Write a Python program using lambda and map."
      ],
      "metadata": {
        "id": "9PRpYVJ4IAQu"
      }
    },
    {
      "cell_type": "code",
      "source": [
        "orders = [[34587, 4, 40.95], [98762, 3, 56.80], [77226, 5, 32.99], [88112, 3, 24.99]]\n",
        "\n",
        "result = list(map(lambda x: (x[0], x[1] * x[2] + (10 if x[1] * x[2] < 100 else 0)), orders))\n",
        "print(result)"
      ],
      "metadata": {
        "colab": {
          "base_uri": "https://localhost:8080/"
        },
        "id": "qH9FyJ7uIAjC",
        "outputId": "593f32b9-230b-43c7-99b5-065e06fcf0ab"
      },
      "execution_count": 43,
      "outputs": [
        {
          "output_type": "stream",
          "name": "stdout",
          "text": [
            "[(34587, 163.8), (98762, 170.39999999999998), (77226, 164.95000000000002), (88112, 84.97)]\n"
          ]
        }
      ]
    }
  ]
}